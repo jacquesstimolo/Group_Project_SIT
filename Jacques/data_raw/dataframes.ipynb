{
 "cells": [
  {
   "cell_type": "code",
   "execution_count": 2,
   "metadata": {},
   "outputs": [],
   "source": [
    "import pandas as pd"
   ]
  },
  {
   "cell_type": "code",
   "execution_count": 22,
   "metadata": {},
   "outputs": [
    {
     "ename": "ValueError",
     "evalue": "Length mismatch: Expected axis has 17 elements, new values have 4 elements",
     "output_type": "error",
     "traceback": [
      "\u001b[1;31m---------------------------------------------------------------------------\u001b[0m",
      "\u001b[1;31mValueError\u001b[0m                                Traceback (most recent call last)",
      "\u001b[1;32mc:\\Users\\jstimolo\\Documents\\SIT_Academy\\Group_Project_SIT\\Jacques\\data_raw\\dataframes.ipynb Cell 2'\u001b[0m in \u001b[0;36m<cell line: 3>\u001b[1;34m()\u001b[0m\n\u001b[0;32m      <a href='vscode-notebook-cell:/c%3A/Users/jstimolo/Documents/SIT_Academy/Group_Project_SIT/Jacques/data_raw/dataframes.ipynb#ch0000001?line=0'>1</a>\u001b[0m df1 \u001b[39m=\u001b[39m pd\u001b[39m.\u001b[39mread_csv(\u001b[39m'\u001b[39m\u001b[39mBevölkerung.csv\u001b[39m\u001b[39m'\u001b[39m)\n\u001b[0;32m      <a href='vscode-notebook-cell:/c%3A/Users/jstimolo/Documents/SIT_Academy/Group_Project_SIT/Jacques/data_raw/dataframes.ipynb#ch0000001?line=1'>2</a>\u001b[0m df1\u001b[39m.\u001b[39mgroupby([\u001b[39m'\u001b[39m\u001b[39mKreisLang\u001b[39m\u001b[39m'\u001b[39m, \u001b[39m'\u001b[39m\u001b[39mQuarLang\u001b[39m\u001b[39m'\u001b[39m])\u001b[39m.\u001b[39mAlterV20Kurz\u001b[39m.\u001b[39mcount()\u001b[39m.\u001b[39mreset_index()\n\u001b[1;32m----> <a href='vscode-notebook-cell:/c%3A/Users/jstimolo/Documents/SIT_Academy/Group_Project_SIT/Jacques/data_raw/dataframes.ipynb#ch0000001?line=2'>3</a>\u001b[0m df1\u001b[39m.\u001b[39mcolumns \u001b[39m=\u001b[39m [\u001b[39m'\u001b[39m\u001b[39mKreise\u001b[39m\u001b[39m'\u001b[39m, \u001b[39m'\u001b[39m\u001b[39mQuartier\u001b[39m\u001b[39m'\u001b[39m, \u001b[39m'\u001b[39m\u001b[39mAltersgruppe\u001b[39m\u001b[39m'\u001b[39m, \u001b[39m'\u001b[39m\u001b[39mCount\u001b[39m\u001b[39m'\u001b[39m]\n",
      "File \u001b[1;32mc:\\Users\\jstimolo\\anaconda3\\envs\\challenge_1\\lib\\site-packages\\pandas\\core\\generic.py:5588\u001b[0m, in \u001b[0;36mNDFrame.__setattr__\u001b[1;34m(self, name, value)\u001b[0m\n\u001b[0;32m   <a href='file:///c%3A/Users/jstimolo/anaconda3/envs/challenge_1/lib/site-packages/pandas/core/generic.py?line=5585'>5586</a>\u001b[0m \u001b[39mtry\u001b[39;00m:\n\u001b[0;32m   <a href='file:///c%3A/Users/jstimolo/anaconda3/envs/challenge_1/lib/site-packages/pandas/core/generic.py?line=5586'>5587</a>\u001b[0m     \u001b[39mobject\u001b[39m\u001b[39m.\u001b[39m\u001b[39m__getattribute__\u001b[39m(\u001b[39mself\u001b[39m, name)\n\u001b[1;32m-> <a href='file:///c%3A/Users/jstimolo/anaconda3/envs/challenge_1/lib/site-packages/pandas/core/generic.py?line=5587'>5588</a>\u001b[0m     \u001b[39mreturn\u001b[39;00m \u001b[39mobject\u001b[39;49m\u001b[39m.\u001b[39;49m\u001b[39m__setattr__\u001b[39;49m(\u001b[39mself\u001b[39;49m, name, value)\n\u001b[0;32m   <a href='file:///c%3A/Users/jstimolo/anaconda3/envs/challenge_1/lib/site-packages/pandas/core/generic.py?line=5588'>5589</a>\u001b[0m \u001b[39mexcept\u001b[39;00m \u001b[39mAttributeError\u001b[39;00m:\n\u001b[0;32m   <a href='file:///c%3A/Users/jstimolo/anaconda3/envs/challenge_1/lib/site-packages/pandas/core/generic.py?line=5589'>5590</a>\u001b[0m     \u001b[39mpass\u001b[39;00m\n",
      "File \u001b[1;32mc:\\Users\\jstimolo\\anaconda3\\envs\\challenge_1\\lib\\site-packages\\pandas\\_libs\\properties.pyx:70\u001b[0m, in \u001b[0;36mpandas._libs.properties.AxisProperty.__set__\u001b[1;34m()\u001b[0m\n",
      "File \u001b[1;32mc:\\Users\\jstimolo\\anaconda3\\envs\\challenge_1\\lib\\site-packages\\pandas\\core\\generic.py:769\u001b[0m, in \u001b[0;36mNDFrame._set_axis\u001b[1;34m(self, axis, labels)\u001b[0m\n\u001b[0;32m    <a href='file:///c%3A/Users/jstimolo/anaconda3/envs/challenge_1/lib/site-packages/pandas/core/generic.py?line=766'>767</a>\u001b[0m \u001b[39mdef\u001b[39;00m \u001b[39m_set_axis\u001b[39m(\u001b[39mself\u001b[39m, axis: \u001b[39mint\u001b[39m, labels: Index) \u001b[39m-\u001b[39m\u001b[39m>\u001b[39m \u001b[39mNone\u001b[39;00m:\n\u001b[0;32m    <a href='file:///c%3A/Users/jstimolo/anaconda3/envs/challenge_1/lib/site-packages/pandas/core/generic.py?line=767'>768</a>\u001b[0m     labels \u001b[39m=\u001b[39m ensure_index(labels)\n\u001b[1;32m--> <a href='file:///c%3A/Users/jstimolo/anaconda3/envs/challenge_1/lib/site-packages/pandas/core/generic.py?line=768'>769</a>\u001b[0m     \u001b[39mself\u001b[39;49m\u001b[39m.\u001b[39;49m_mgr\u001b[39m.\u001b[39;49mset_axis(axis, labels)\n\u001b[0;32m    <a href='file:///c%3A/Users/jstimolo/anaconda3/envs/challenge_1/lib/site-packages/pandas/core/generic.py?line=769'>770</a>\u001b[0m     \u001b[39mself\u001b[39m\u001b[39m.\u001b[39m_clear_item_cache()\n",
      "File \u001b[1;32mc:\\Users\\jstimolo\\anaconda3\\envs\\challenge_1\\lib\\site-packages\\pandas\\core\\internals\\managers.py:214\u001b[0m, in \u001b[0;36mBaseBlockManager.set_axis\u001b[1;34m(self, axis, new_labels)\u001b[0m\n\u001b[0;32m    <a href='file:///c%3A/Users/jstimolo/anaconda3/envs/challenge_1/lib/site-packages/pandas/core/internals/managers.py?line=211'>212</a>\u001b[0m \u001b[39mdef\u001b[39;00m \u001b[39mset_axis\u001b[39m(\u001b[39mself\u001b[39m, axis: \u001b[39mint\u001b[39m, new_labels: Index) \u001b[39m-\u001b[39m\u001b[39m>\u001b[39m \u001b[39mNone\u001b[39;00m:\n\u001b[0;32m    <a href='file:///c%3A/Users/jstimolo/anaconda3/envs/challenge_1/lib/site-packages/pandas/core/internals/managers.py?line=212'>213</a>\u001b[0m     \u001b[39m# Caller is responsible for ensuring we have an Index object.\u001b[39;00m\n\u001b[1;32m--> <a href='file:///c%3A/Users/jstimolo/anaconda3/envs/challenge_1/lib/site-packages/pandas/core/internals/managers.py?line=213'>214</a>\u001b[0m     \u001b[39mself\u001b[39;49m\u001b[39m.\u001b[39;49m_validate_set_axis(axis, new_labels)\n\u001b[0;32m    <a href='file:///c%3A/Users/jstimolo/anaconda3/envs/challenge_1/lib/site-packages/pandas/core/internals/managers.py?line=214'>215</a>\u001b[0m     \u001b[39mself\u001b[39m\u001b[39m.\u001b[39maxes[axis] \u001b[39m=\u001b[39m new_labels\n",
      "File \u001b[1;32mc:\\Users\\jstimolo\\anaconda3\\envs\\challenge_1\\lib\\site-packages\\pandas\\core\\internals\\base.py:69\u001b[0m, in \u001b[0;36mDataManager._validate_set_axis\u001b[1;34m(self, axis, new_labels)\u001b[0m\n\u001b[0;32m     <a href='file:///c%3A/Users/jstimolo/anaconda3/envs/challenge_1/lib/site-packages/pandas/core/internals/base.py?line=65'>66</a>\u001b[0m     \u001b[39mpass\u001b[39;00m\n\u001b[0;32m     <a href='file:///c%3A/Users/jstimolo/anaconda3/envs/challenge_1/lib/site-packages/pandas/core/internals/base.py?line=67'>68</a>\u001b[0m \u001b[39melif\u001b[39;00m new_len \u001b[39m!=\u001b[39m old_len:\n\u001b[1;32m---> <a href='file:///c%3A/Users/jstimolo/anaconda3/envs/challenge_1/lib/site-packages/pandas/core/internals/base.py?line=68'>69</a>\u001b[0m     \u001b[39mraise\u001b[39;00m \u001b[39mValueError\u001b[39;00m(\n\u001b[0;32m     <a href='file:///c%3A/Users/jstimolo/anaconda3/envs/challenge_1/lib/site-packages/pandas/core/internals/base.py?line=69'>70</a>\u001b[0m         \u001b[39mf\u001b[39m\u001b[39m\"\u001b[39m\u001b[39mLength mismatch: Expected axis has \u001b[39m\u001b[39m{\u001b[39;00mold_len\u001b[39m}\u001b[39;00m\u001b[39m elements, new \u001b[39m\u001b[39m\"\u001b[39m\n\u001b[0;32m     <a href='file:///c%3A/Users/jstimolo/anaconda3/envs/challenge_1/lib/site-packages/pandas/core/internals/base.py?line=70'>71</a>\u001b[0m         \u001b[39mf\u001b[39m\u001b[39m\"\u001b[39m\u001b[39mvalues have \u001b[39m\u001b[39m{\u001b[39;00mnew_len\u001b[39m}\u001b[39;00m\u001b[39m elements\u001b[39m\u001b[39m\"\u001b[39m\n\u001b[0;32m     <a href='file:///c%3A/Users/jstimolo/anaconda3/envs/challenge_1/lib/site-packages/pandas/core/internals/base.py?line=71'>72</a>\u001b[0m     )\n",
      "\u001b[1;31mValueError\u001b[0m: Length mismatch: Expected axis has 17 elements, new values have 4 elements"
     ]
    }
   ],
   "source": [
    "df1 = pd.read_csv('Bevölkerung.csv')\n",
    "df1.groupby(['KreisLang', 'QuarLang']).AlterV20Kurz.count().reset_index()\n",
    "df1.columns = ['Kreise', 'Quartier', 'Altersgruppe'], 'Count']"
   ]
  },
  {
   "cell_type": "code",
   "execution_count": 21,
   "metadata": {},
   "outputs": [
    {
     "data": {
      "text/plain": [
       "['Kresis', '1']"
      ]
     },
     "execution_count": 21,
     "metadata": {},
     "output_type": "execute_result"
    }
   ],
   "source": [
    "get_id = lambda x: x.split(' ')[1]\n",
    "\n",
    "df1."
   ]
  },
  {
   "cell_type": "code",
   "execution_count": null,
   "metadata": {},
   "outputs": [],
   "source": []
  }
 ],
 "metadata": {
  "interpreter": {
   "hash": "e4af89721f46a15f20169aed7ef30222589be9f69429160aed8782f931355615"
  },
  "kernelspec": {
   "display_name": "Python 3.10.4 ('challenge_1')",
   "language": "python",
   "name": "python3"
  },
  "language_info": {
   "codemirror_mode": {
    "name": "ipython",
    "version": 3
   },
   "file_extension": ".py",
   "mimetype": "text/x-python",
   "name": "python",
   "nbconvert_exporter": "python",
   "pygments_lexer": "ipython3",
   "version": "3.10.4"
  },
  "orig_nbformat": 4
 },
 "nbformat": 4,
 "nbformat_minor": 2
}
