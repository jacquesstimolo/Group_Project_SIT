{
 "cells": [
  {
   "cell_type": "code",
   "execution_count": 24,
   "metadata": {},
   "outputs": [],
   "source": [
    "import pandas as pd\n",
    "\n",
    "# Source: https://latitudelongitude.org/ch/zuerich-kreis-12/\n",
    "\n",
    "# ID : lon, lat\n",
    "dict_coords = {\n",
    "    1 : [47.37055, 8.54177],\n",
    "    2 : [47.33756, 8.5211],\n",
    "    3 : [47.35785, 8.50296],\n",
    "    4 : [47.37752, 8.5212],\n",
    "    5 : [47.38767, 8.52152],\n",
    "    6 : [47.39223, 8.54381],\n",
    "    7 : [47.37328, 8.58038],\n",
    "    8 : [47.3548, 8.56097],\n",
    "    9 : [47.38245, 8.47993],\n",
    "    10 : [47.40773, 8.5005],\n",
    "    11 : [47.42326, 8.52166],\n",
    "    12 : [47.40372, 8.57608]\n",
    "}\n",
    "\n",
    "latid, longi, ids = [], [], []\n",
    "for key, values in dict_coords.items():\n",
    "    ids.append(key)\n",
    "    latid.append(values[0])\n",
    "    longi.append(values[1])\n",
    "\n",
    "\n",
    "df = pd.DataFrame()\n",
    "df['id'] = ids\n",
    "df['lat'] = latid\n",
    "df['lon'] = longi\n",
    "df['color'] = [1 for i in range(12)]\n",
    "df\n",
    "None"
   ]
  },
  {
   "cell_type": "code",
   "execution_count": 23,
   "metadata": {},
   "outputs": [],
   "source": [
    "import json\n",
    "import plotly.graph_objects as go\n",
    "\n",
    "\n",
    "with open('stadtkreise.json') as json_file:\n",
    "    stadtkreise = json.load(json_file)\n",
    "\n",
    "def set_ID(kreis):\n",
    "    for i in range(len(kreis['features'])):\n",
    "        kreis['features'][i]['id'] = kreis['features'][i]['properties']['name']\n",
    "    return kreis\n",
    "\n",
    "stadtkreise = set_ID(stadtkreise)\n",
    "\n",
    "fig = go.Figure(go.Choroplethmapbox(geojson=stadtkreise, locations=df.id, z=df.color,\n",
    "                                    colorscale=\"Viridis\",\n",
    "                                    marker_opacity=0.5, marker_line_width=0))\n",
    "\n",
    "\n",
    "fig.add_scattermapbox(lat = df.lat.tolist(),\n",
    "                      lon = df.lon.tolist(),\n",
    "                      line_color = 'red',\n",
    "                      mode=\"markers+text\",\n",
    "                      marker={\"size\": 7})\n",
    "\n",
    "\n",
    "\n",
    "fig.update_layout(mapbox_style=\"carto-positron\",\n",
    "                  mapbox_zoom=10, mapbox_center = {\"lat\": 47.4, \"lon\": 8.6})\n",
    "fig.update_layout(margin={\"r\":0,\"t\":0,\"l\":0,\"b\":0})\n",
    "# fig.show()\n",
    "None"
   ]
  },
  {
   "cell_type": "code",
   "execution_count": null,
   "metadata": {},
   "outputs": [],
   "source": []
  }
 ],
 "metadata": {
  "interpreter": {
   "hash": "e4af89721f46a15f20169aed7ef30222589be9f69429160aed8782f931355615"
  },
  "kernelspec": {
   "display_name": "Python 3.10.4 ('challenge_1')",
   "language": "python",
   "name": "python3"
  },
  "language_info": {
   "codemirror_mode": {
    "name": "ipython",
    "version": 3
   },
   "file_extension": ".py",
   "mimetype": "text/x-python",
   "name": "python",
   "nbconvert_exporter": "python",
   "pygments_lexer": "ipython3",
   "version": "3.10.4"
  },
  "orig_nbformat": 4
 },
 "nbformat": 4,
 "nbformat_minor": 2
}
