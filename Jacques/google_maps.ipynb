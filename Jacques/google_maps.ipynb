{
 "cells": [
  {
   "cell_type": "code",
   "execution_count": null,
   "metadata": {},
   "outputs": [],
   "source": [
    "# importing required libraries\n",
    "import requests, json\n",
    "  \n",
    "# enter your api key here\n",
    "api_key ='Your_api_key'\n",
    "  \n",
    "# Take source as input\n",
    "source = input()\n",
    "  \n",
    "# Take destination as input\n",
    "dest = input()\n",
    "  \n",
    "# url variable store url \n",
    "url ='https://maps.googleapis.com/maps/api/distancematrix/json?'\n",
    "  \n",
    "# Get method of requests module\n",
    "# return response object\n",
    "r = requests.get(url + 'origins = ' + source +\n",
    "                   '&destinations = ' + dest +\n",
    "                   '&key = ' + api_key)\n",
    "                     \n",
    "# json method of response object\n",
    "# return json format result\n",
    "x = r.json()\n",
    "  \n",
    "# by default driving mode considered\n",
    "  \n",
    "# print the value of x\n",
    "print(x)"
   ]
  }
 ],
 "metadata": {
  "language_info": {
   "name": "python"
  },
  "orig_nbformat": 4
 },
 "nbformat": 4,
 "nbformat_minor": 2
}
