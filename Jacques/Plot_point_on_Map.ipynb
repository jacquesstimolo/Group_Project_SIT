{
 "cells": [
  {
   "cell_type": "code",
   "execution_count": 7,
   "metadata": {},
   "outputs": [
    {
     "name": "stderr",
     "output_type": "stream",
     "text": [
      "WARNING: Retrying (Retry(total=4, connect=None, read=None, redirect=None, status=None)) after connection broken by 'NewConnectionError('<pip._vendor.urllib3.connection.HTTPSConnection object at 0x000001C68673D3C0>: Failed to establish a new connection: [WinError 10065] Tentativo di operazione del socket verso un host non raggiungibile')': /simple/geopandas/\n",
      "WARNING: Retrying (Retry(total=3, connect=None, read=None, redirect=None, status=None)) after connection broken by 'NewConnectionError('<pip._vendor.urllib3.connection.HTTPSConnection object at 0x000001C68673D120>: Failed to establish a new connection: [WinError 10065] Tentativo di operazione del socket verso un host non raggiungibile')': /simple/geopandas/\n",
      "WARNING: Retrying (Retry(total=2, connect=None, read=None, redirect=None, status=None)) after connection broken by 'NewConnectionError('<pip._vendor.urllib3.connection.HTTPSConnection object at 0x000001C68673CD60>: Failed to establish a new connection: [WinError 10065] Tentativo di operazione del socket verso un host non raggiungibile')': /simple/geopandas/\n",
      "WARNING: Retrying (Retry(total=1, connect=None, read=None, redirect=None, status=None)) after connection broken by 'NewConnectionError('<pip._vendor.urllib3.connection.HTTPSConnection object at 0x000001C68673DC60>: Failed to establish a new connection: [WinError 10065] Tentativo di operazione del socket verso un host non raggiungibile')': /simple/geopandas/\n",
      "WARNING: Retrying (Retry(total=0, connect=None, read=None, redirect=None, status=None)) after connection broken by 'NewConnectionError('<pip._vendor.urllib3.connection.HTTPSConnection object at 0x000001C68673DE10>: Failed to establish a new connection: [WinError 10065] Tentativo di operazione del socket verso un host non raggiungibile')': /simple/geopandas/\n",
      "ERROR: Could not find a version that satisfies the requirement geopandas (from versions: none)\n",
      "ERROR: No matching distribution found for geopandas\n"
     ]
    }
   ],
   "source": [
    "!pip install geopandas"
   ]
  },
  {
   "cell_type": "code",
   "execution_count": 9,
   "metadata": {},
   "outputs": [
    {
     "ename": "ModuleNotFoundError",
     "evalue": "No module named 'geopandas'",
     "output_type": "error",
     "traceback": [
      "\u001b[1;31m---------------------------------------------------------------------------\u001b[0m",
      "\u001b[1;31mModuleNotFoundError\u001b[0m                       Traceback (most recent call last)",
      "\u001b[1;32mc:\\Users\\jstimolo\\Documents\\SIT_Academy\\Group_Project_SIT\\Jacques\\Plot_point_on_Map.ipynb Cell 2'\u001b[0m in \u001b[0;36m<cell line: 2>\u001b[1;34m()\u001b[0m\n\u001b[0;32m      <a href='vscode-notebook-cell:/c%3A/Users/jstimolo/Documents/SIT_Academy/Group_Project_SIT/Jacques/Plot_point_on_Map.ipynb#ch0000000?line=0'>1</a>\u001b[0m \u001b[39mimport\u001b[39;00m \u001b[39mplotly\u001b[39;00m\u001b[39m.\u001b[39;00m\u001b[39mexpress\u001b[39;00m \u001b[39mas\u001b[39;00m \u001b[39mpx\u001b[39;00m\n\u001b[1;32m----> <a href='vscode-notebook-cell:/c%3A/Users/jstimolo/Documents/SIT_Academy/Group_Project_SIT/Jacques/Plot_point_on_Map.ipynb#ch0000000?line=1'>2</a>\u001b[0m \u001b[39mimport\u001b[39;00m \u001b[39mgeopandas\u001b[39;00m \u001b[39mas\u001b[39;00m \u001b[39mgpd\u001b[39;00m\n\u001b[0;32m      <a href='vscode-notebook-cell:/c%3A/Users/jstimolo/Documents/SIT_Academy/Group_Project_SIT/Jacques/Plot_point_on_Map.ipynb#ch0000000?line=3'>4</a>\u001b[0m geo_df \u001b[39m=\u001b[39m gpd\u001b[39m.\u001b[39mread_file(gpd\u001b[39m.\u001b[39mdatasets\u001b[39m.\u001b[39mget_path(\u001b[39m'\u001b[39m\u001b[39mnaturalearth_cities\u001b[39m\u001b[39m'\u001b[39m))\n\u001b[0;32m      <a href='vscode-notebook-cell:/c%3A/Users/jstimolo/Documents/SIT_Academy/Group_Project_SIT/Jacques/Plot_point_on_Map.ipynb#ch0000000?line=5'>6</a>\u001b[0m px\u001b[39m.\u001b[39mset_mapbox_access_token(\u001b[39mopen\u001b[39m(\u001b[39m\"\u001b[39m\u001b[39m.mapbox_token\u001b[39m\u001b[39m\"\u001b[39m)\u001b[39m.\u001b[39mread())\n",
      "\u001b[1;31mModuleNotFoundError\u001b[0m: No module named 'geopandas'"
     ]
    }
   ],
   "source": [
    "import plotly.express as px\n",
    "import geopandas as gpd\n",
    "\n",
    "geo_df = gpd.read_file(gpd.datasets.get_path('naturalearth_cities'))\n",
    "\n",
    "px.set_mapbox_access_token(open(\".mapbox_token\").read())\n",
    "fig = px.scatter_geo(geo_df,\n",
    "                    lat=geo_df.geometry.y,\n",
    "                    lon=geo_df.geometry.x,\n",
    "                    hover_name=\"name\")\n",
    "fig.show()"
   ]
  },
  {
   "cell_type": "code",
   "execution_count": null,
   "metadata": {},
   "outputs": [],
   "source": []
  }
 ],
 "metadata": {
  "interpreter": {
   "hash": "e4af89721f46a15f20169aed7ef30222589be9f69429160aed8782f931355615"
  },
  "kernelspec": {
   "display_name": "Python 3.10.4 ('challenge_1')",
   "language": "python",
   "name": "python3"
  },
  "language_info": {
   "codemirror_mode": {
    "name": "ipython",
    "version": 3
   },
   "file_extension": ".py",
   "mimetype": "text/x-python",
   "name": "python",
   "nbconvert_exporter": "python",
   "pygments_lexer": "ipython3",
   "version": "3.10.4"
  },
  "orig_nbformat": 4
 },
 "nbformat": 4,
 "nbformat_minor": 2
}
