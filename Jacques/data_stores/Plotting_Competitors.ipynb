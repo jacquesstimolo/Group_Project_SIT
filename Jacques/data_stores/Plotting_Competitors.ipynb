{
 "cells": [
  {
   "cell_type": "code",
   "execution_count": 1,
   "metadata": {},
   "outputs": [],
   "source": [
    "import pandas as pd\n",
    "import json\n",
    "import plotly.graph_objects as go"
   ]
  },
  {
   "cell_type": "code",
   "execution_count": 2,
   "metadata": {},
   "outputs": [],
   "source": [
    "with open('stadtkreise.json') as json_file:\n",
    "    stadtkreise_ = json.load(json_file)\n",
    "\n",
    "def set_ID(kreis):\n",
    "    for i in range(len(kreis['features'])):\n",
    "        kreis['features'][i]['id'] = kreis['features'][i]['properties']['name']\n",
    "    return kreis\n",
    "\n",
    "stadtkreise_ = set_ID(stadtkreise_)"
   ]
  },
  {
   "cell_type": "code",
   "execution_count": 3,
   "metadata": {},
   "outputs": [
    {
     "ename": "NameError",
     "evalue": "name 'df1' is not defined",
     "output_type": "error",
     "traceback": [
      "\u001b[1;31m---------------------------------------------------------------------------\u001b[0m",
      "\u001b[1;31mNameError\u001b[0m                                 Traceback (most recent call last)",
      "\u001b[1;32mc:\\Users\\jstimolo\\Documents\\SIT_Academy\\Group_Project_SIT\\Jacques\\data_stores\\Plotting_Competitors.ipynb Cell 3'\u001b[0m in \u001b[0;36m<cell line: 1>\u001b[1;34m()\u001b[0m\n\u001b[1;32m----> <a href='vscode-notebook-cell:/c%3A/Users/jstimolo/Documents/SIT_Academy/Group_Project_SIT/Jacques/data_stores/Plotting_Competitors.ipynb#ch0000002?line=0'>1</a>\u001b[0m fig \u001b[39m=\u001b[39m go\u001b[39m.\u001b[39mFigure(go\u001b[39m.\u001b[39mChoroplethmapbox(geojson\u001b[39m=\u001b[39mstadtkreise_, locations\u001b[39m=\u001b[39mdf1\u001b[39m.\u001b[39mid_Kreis, z\u001b[39m=\u001b[39mdf1\u001b[39m.\u001b[39mCount,\n\u001b[0;32m      <a href='vscode-notebook-cell:/c%3A/Users/jstimolo/Documents/SIT_Academy/Group_Project_SIT/Jacques/data_stores/Plotting_Competitors.ipynb#ch0000002?line=1'>2</a>\u001b[0m                                     colorscale\u001b[39m=\u001b[39m\u001b[39m\"\u001b[39m\u001b[39mViridis\u001b[39m\u001b[39m\"\u001b[39m,\n\u001b[0;32m      <a href='vscode-notebook-cell:/c%3A/Users/jstimolo/Documents/SIT_Academy/Group_Project_SIT/Jacques/data_stores/Plotting_Competitors.ipynb#ch0000002?line=2'>3</a>\u001b[0m                                     marker_opacity\u001b[39m=\u001b[39m\u001b[39m0.5\u001b[39m, marker_line_width\u001b[39m=\u001b[39m\u001b[39m0\u001b[39m)) \u001b[39m# here you set all attributes needed for a Choroplethmapbox\u001b[39;00m\n\u001b[0;32m      <a href='vscode-notebook-cell:/c%3A/Users/jstimolo/Documents/SIT_Academy/Group_Project_SIT/Jacques/data_stores/Plotting_Competitors.ipynb#ch0000002?line=4'>5</a>\u001b[0m fig\u001b[39m.\u001b[39madd_scattermapbox(lat \u001b[39m=\u001b[39m df\u001b[39m.\u001b[39mlat\u001b[39m.\u001b[39mtolist(),\n\u001b[0;32m      <a href='vscode-notebook-cell:/c%3A/Users/jstimolo/Documents/SIT_Academy/Group_Project_SIT/Jacques/data_stores/Plotting_Competitors.ipynb#ch0000002?line=5'>6</a>\u001b[0m                       lon \u001b[39m=\u001b[39m df\u001b[39m.\u001b[39mlng\u001b[39m.\u001b[39mtolist(),\n\u001b[0;32m      <a href='vscode-notebook-cell:/c%3A/Users/jstimolo/Documents/SIT_Academy/Group_Project_SIT/Jacques/data_stores/Plotting_Competitors.ipynb#ch0000002?line=6'>7</a>\u001b[0m                       mode\u001b[39m=\u001b[39m\u001b[39m\"\u001b[39m\u001b[39mmarkers+text\u001b[39m\u001b[39m\"\u001b[39m,\n\u001b[1;32m   (...)\u001b[0m\n\u001b[0;32m     <a href='vscode-notebook-cell:/c%3A/Users/jstimolo/Documents/SIT_Academy/Group_Project_SIT/Jacques/data_stores/Plotting_Competitors.ipynb#ch0000002?line=9'>10</a>\u001b[0m                       customdata\u001b[39m=\u001b[39mdf[[\u001b[39m'\u001b[39m\u001b[39mrating\u001b[39m\u001b[39m'\u001b[39m, \u001b[39m'\u001b[39m\u001b[39mnr_users_rating\u001b[39m\u001b[39m'\u001b[39m, \u001b[39m'\u001b[39m\u001b[39mKreis_id\u001b[39m\u001b[39m'\u001b[39m]],\n\u001b[0;32m     <a href='vscode-notebook-cell:/c%3A/Users/jstimolo/Documents/SIT_Academy/Group_Project_SIT/Jacques/data_stores/Plotting_Competitors.ipynb#ch0000002?line=10'>11</a>\u001b[0m                       hovertemplate \u001b[39m=\u001b[39m \u001b[39m\"\u001b[39m\u001b[39m%\u001b[39m\u001b[39m{text}\u001b[39;00m\u001b[39m<br>Kreis \u001b[39m\u001b[39m%\u001b[39m\u001b[39m{customdata[2]}\u001b[39;00m\u001b[39m <br>lat: \u001b[39m\u001b[39m%\u001b[39m\u001b[39m{lat:.2f}\u001b[39;00m\u001b[39m   lon: \u001b[39m\u001b[39m%\u001b[39m\u001b[39m{lon:.2f}\u001b[39;00m\u001b[39m<br>Rating: \u001b[39m\u001b[39m%\u001b[39m\u001b[39m{customdata[0]}\u001b[39;00m\u001b[39m,  Nr Ratings: \u001b[39m\u001b[39m%\u001b[39m\u001b[39m{customdata[1]}\u001b[39;00m\u001b[39m<extra></extra>\u001b[39m\u001b[39m\"\u001b[39m,)\n\u001b[0;32m     <a href='vscode-notebook-cell:/c%3A/Users/jstimolo/Documents/SIT_Academy/Group_Project_SIT/Jacques/data_stores/Plotting_Competitors.ipynb#ch0000002?line=12'>13</a>\u001b[0m fig\u001b[39m.\u001b[39mupdate_layout(mapbox_style\u001b[39m=\u001b[39m\u001b[39m\"\u001b[39m\u001b[39mcarto-positron\u001b[39m\u001b[39m\"\u001b[39m,\n\u001b[0;32m     <a href='vscode-notebook-cell:/c%3A/Users/jstimolo/Documents/SIT_Academy/Group_Project_SIT/Jacques/data_stores/Plotting_Competitors.ipynb#ch0000002?line=13'>14</a>\u001b[0m                   mapbox_zoom\u001b[39m=\u001b[39m\u001b[39m10\u001b[39m, mapbox_center \u001b[39m=\u001b[39m {\u001b[39m\"\u001b[39m\u001b[39mlat\u001b[39m\u001b[39m\"\u001b[39m: \u001b[39m47.4\u001b[39m, \u001b[39m\"\u001b[39m\u001b[39mlon\u001b[39m\u001b[39m\"\u001b[39m: \u001b[39m8.6\u001b[39m})\n",
      "\u001b[1;31mNameError\u001b[0m: name 'df1' is not defined"
     ]
    }
   ],
   "source": [
    "fig = go.Figure(go.Choroplethmapbox(geojson=stadtkreise_, locations=df1.id_Kreis, z=df1.Count,\n",
    "                                    colorscale=\"Viridis\",\n",
    "                                    marker_opacity=0.5, marker_line_width=0)) # here you set all attributes needed for a Choroplethmapbox\n",
    "\n",
    "fig.add_scattermapbox(lat = df.lat.tolist(),\n",
    "                      lon = df.lng.tolist(),\n",
    "                      mode=\"markers+text\",\n",
    "                      marker={\"size\": 7},\n",
    "                      text=df[\"address\"],\n",
    "                      customdata=df[['rating', 'nr_users_rating', 'Kreis_id']],\n",
    "                      hovertemplate = \"%{text}<br>Kreis %{customdata[2]} <br>lat: %{lat:.2f}   lon: %{lon:.2f}<br>Rating: %{customdata[0]},  Nr Ratings: %{customdata[1]}<extra></extra>\",)\n",
    "\n",
    "fig.update_layout(mapbox_style=\"carto-positron\",\n",
    "                  mapbox_zoom=10, mapbox_center = {\"lat\": 47.4, \"lon\": 8.6})\n",
    "fig.update_layout(margin={\"r\":0,\"t\":0,\"l\":0,\"b\":0})\n",
    "fig.show()"
   ]
  }
 ],
 "metadata": {
  "interpreter": {
   "hash": "e4af89721f46a15f20169aed7ef30222589be9f69429160aed8782f931355615"
  },
  "kernelspec": {
   "display_name": "Python 3.10.4 ('challenge_1')",
   "language": "python",
   "name": "python3"
  },
  "language_info": {
   "codemirror_mode": {
    "name": "ipython",
    "version": 3
   },
   "file_extension": ".py",
   "mimetype": "text/x-python",
   "name": "python",
   "nbconvert_exporter": "python",
   "pygments_lexer": "ipython3",
   "version": "3.10.4"
  },
  "orig_nbformat": 4
 },
 "nbformat": 4,
 "nbformat_minor": 2
}
