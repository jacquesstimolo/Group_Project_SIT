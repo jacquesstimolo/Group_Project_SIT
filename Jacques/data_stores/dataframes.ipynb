{
 "cells": [
  {
   "cell_type": "code",
   "execution_count": 15,
   "metadata": {},
   "outputs": [],
   "source": [
    "import pandas as pd"
   ]
  },
  {
   "cell_type": "code",
   "execution_count": 16,
   "metadata": {},
   "outputs": [
    {
     "data": {
      "text/html": [
       "<div>\n",
       "<style scoped>\n",
       "    .dataframe tbody tr th:only-of-type {\n",
       "        vertical-align: middle;\n",
       "    }\n",
       "\n",
       "    .dataframe tbody tr th {\n",
       "        vertical-align: top;\n",
       "    }\n",
       "\n",
       "    .dataframe thead th {\n",
       "        text-align: right;\n",
       "    }\n",
       "</style>\n",
       "<table border=\"1\" class=\"dataframe\">\n",
       "  <thead>\n",
       "    <tr style=\"text-align: right;\">\n",
       "      <th></th>\n",
       "      <th>Unnamed: 0</th>\n",
       "      <th>business_status</th>\n",
       "      <th>formatted_address</th>\n",
       "      <th>icon</th>\n",
       "      <th>icon_background_color</th>\n",
       "      <th>icon_mask_base_uri</th>\n",
       "      <th>name</th>\n",
       "      <th>photos</th>\n",
       "      <th>place_id</th>\n",
       "      <th>rating</th>\n",
       "      <th>...</th>\n",
       "      <th>user_ratings_total</th>\n",
       "      <th>geometry.location.lat</th>\n",
       "      <th>geometry.location.lng</th>\n",
       "      <th>geometry.viewport.northeast.lat</th>\n",
       "      <th>geometry.viewport.northeast.lng</th>\n",
       "      <th>geometry.viewport.southwest.lat</th>\n",
       "      <th>geometry.viewport.southwest.lng</th>\n",
       "      <th>opening_hours.open_now</th>\n",
       "      <th>plus_code.compound_code</th>\n",
       "      <th>plus_code.global_code</th>\n",
       "    </tr>\n",
       "  </thead>\n",
       "  <tbody>\n",
       "    <tr>\n",
       "      <th>0</th>\n",
       "      <td>14</td>\n",
       "      <td>OPERATIONAL</td>\n",
       "      <td>Badenerstrasse 376, 8004 Zürich, Switzerland</td>\n",
       "      <td>https://maps.gstatic.com/mapfiles/place_api/ic...</td>\n",
       "      <td>#4B96F3</td>\n",
       "      <td>https://maps.gstatic.com/mapfiles/place_api/ic...</td>\n",
       "      <td>Migros Supermarkt</td>\n",
       "      <td>[{'height': 3036, 'html_attributions': ['&lt;a hr...</td>\n",
       "      <td>ChIJP2csREgKkEcRBKI93d184H0</td>\n",
       "      <td>4.1</td>\n",
       "      <td>...</td>\n",
       "      <td>463</td>\n",
       "      <td>47.379105</td>\n",
       "      <td>8.508754</td>\n",
       "      <td>47.380425</td>\n",
       "      <td>8.5101</td>\n",
       "      <td>47.377725</td>\n",
       "      <td>8.5074</td>\n",
       "      <td>True</td>\n",
       "      <td>9GH5+JG Zürich</td>\n",
       "      <td>8FVC9GH5+JG</td>\n",
       "    </tr>\n",
       "  </tbody>\n",
       "</table>\n",
       "<p>1 rows × 22 columns</p>\n",
       "</div>"
      ],
      "text/plain": [
       "   Unnamed: 0 business_status                             formatted_address  \\\n",
       "0          14     OPERATIONAL  Badenerstrasse 376, 8004 Zürich, Switzerland   \n",
       "\n",
       "                                                icon icon_background_color  \\\n",
       "0  https://maps.gstatic.com/mapfiles/place_api/ic...               #4B96F3   \n",
       "\n",
       "                                  icon_mask_base_uri               name  \\\n",
       "0  https://maps.gstatic.com/mapfiles/place_api/ic...  Migros Supermarkt   \n",
       "\n",
       "                                              photos  \\\n",
       "0  [{'height': 3036, 'html_attributions': ['<a hr...   \n",
       "\n",
       "                      place_id  rating  ... user_ratings_total  \\\n",
       "0  ChIJP2csREgKkEcRBKI93d184H0     4.1  ...                463   \n",
       "\n",
       "  geometry.location.lat  geometry.location.lng  \\\n",
       "0             47.379105               8.508754   \n",
       "\n",
       "   geometry.viewport.northeast.lat  geometry.viewport.northeast.lng  \\\n",
       "0                        47.380425                           8.5101   \n",
       "\n",
       "   geometry.viewport.southwest.lat  geometry.viewport.southwest.lng  \\\n",
       "0                        47.377725                           8.5074   \n",
       "\n",
       "   opening_hours.open_now  plus_code.compound_code  plus_code.global_code  \n",
       "0                    True           9GH5+JG Zürich            8FVC9GH5+JG  \n",
       "\n",
       "[1 rows x 22 columns]"
      ]
     },
     "execution_count": 16,
     "metadata": {},
     "output_type": "execute_result"
    }
   ],
   "source": [
    "df = pd.read_csv('migros.csv')\n",
    "df.head(1)"
   ]
  },
  {
   "cell_type": "code",
   "execution_count": 17,
   "metadata": {},
   "outputs": [
    {
     "data": {
      "text/plain": [
       "Index(['Unnamed: 0', 'business_status', 'formatted_address', 'icon',\n",
       "       'icon_background_color', 'icon_mask_base_uri', 'name', 'photos',\n",
       "       'place_id', 'rating', 'reference', 'types', 'user_ratings_total',\n",
       "       'geometry.location.lat', 'geometry.location.lng',\n",
       "       'geometry.viewport.northeast.lat', 'geometry.viewport.northeast.lng',\n",
       "       'geometry.viewport.southwest.lat', 'geometry.viewport.southwest.lng',\n",
       "       'opening_hours.open_now', 'plus_code.compound_code',\n",
       "       'plus_code.global_code'],\n",
       "      dtype='object')"
      ]
     },
     "execution_count": 17,
     "metadata": {},
     "output_type": "execute_result"
    }
   ],
   "source": [
    "df.columns"
   ]
  },
  {
   "cell_type": "markdown",
   "metadata": {},
   "source": [
    "> Taking needed Data:"
   ]
  },
  {
   "cell_type": "code",
   "execution_count": 18,
   "metadata": {},
   "outputs": [
    {
     "data": {
      "text/html": [
       "<div>\n",
       "<style scoped>\n",
       "    .dataframe tbody tr th:only-of-type {\n",
       "        vertical-align: middle;\n",
       "    }\n",
       "\n",
       "    .dataframe tbody tr th {\n",
       "        vertical-align: top;\n",
       "    }\n",
       "\n",
       "    .dataframe thead th {\n",
       "        text-align: right;\n",
       "    }\n",
       "</style>\n",
       "<table border=\"1\" class=\"dataframe\">\n",
       "  <thead>\n",
       "    <tr style=\"text-align: right;\">\n",
       "      <th></th>\n",
       "      <th>formatted_address</th>\n",
       "      <th>name</th>\n",
       "      <th>rating</th>\n",
       "      <th>geometry.location.lat</th>\n",
       "      <th>geometry.location.lng</th>\n",
       "    </tr>\n",
       "  </thead>\n",
       "  <tbody>\n",
       "    <tr>\n",
       "      <th>0</th>\n",
       "      <td>Badenerstrasse 376, 8004 Zürich, Switzerland</td>\n",
       "      <td>Migros Supermarkt</td>\n",
       "      <td>4.1</td>\n",
       "      <td>47.379105</td>\n",
       "      <td>8.508754</td>\n",
       "    </tr>\n",
       "    <tr>\n",
       "      <th>1</th>\n",
       "      <td>Birmensdorferstrasse 140, 8003 Zürich, Switzer...</td>\n",
       "      <td>Migros Supermarkt</td>\n",
       "      <td>4.2</td>\n",
       "      <td>47.370066</td>\n",
       "      <td>8.520107</td>\n",
       "    </tr>\n",
       "    <tr>\n",
       "      <th>2</th>\n",
       "      <td>Birmensdorferstrasse 320, 8055 Zürich, Switzer...</td>\n",
       "      <td>Migros Supermarkt</td>\n",
       "      <td>4.3</td>\n",
       "      <td>47.369956</td>\n",
       "      <td>8.508721</td>\n",
       "    </tr>\n",
       "    <tr>\n",
       "      <th>3</th>\n",
       "      <td>Etzelstrasse 3, 8038 Zürich, Switzerland</td>\n",
       "      <td>Migros Supermarkt</td>\n",
       "      <td>4.3</td>\n",
       "      <td>47.344706</td>\n",
       "      <td>8.529962</td>\n",
       "    </tr>\n",
       "    <tr>\n",
       "      <th>4</th>\n",
       "      <td>Falkenstrasse 19 - 21, 8008 Zürich, Switzerland</td>\n",
       "      <td>Migros</td>\n",
       "      <td>4.2</td>\n",
       "      <td>47.365446</td>\n",
       "      <td>8.547967</td>\n",
       "    </tr>\n",
       "    <tr>\n",
       "      <th>5</th>\n",
       "      <td>Hardturmstrasse 11, 8005 Zürich, Switzerland</td>\n",
       "      <td>Migros Supermarkt</td>\n",
       "      <td>4.3</td>\n",
       "      <td>47.391336</td>\n",
       "      <td>8.518553</td>\n",
       "    </tr>\n",
       "    <tr>\n",
       "      <th>6</th>\n",
       "      <td>Hauptbahnhof, 8001 Zürich, Switzerland</td>\n",
       "      <td>Migros Superm.</td>\n",
       "      <td>4.2</td>\n",
       "      <td>47.377507</td>\n",
       "      <td>8.539468</td>\n",
       "    </tr>\n",
       "    <tr>\n",
       "      <th>7</th>\n",
       "      <td>Hohlstrasse 600, 8048 Zürich, Switzerland</td>\n",
       "      <td>Migros Supermarkt</td>\n",
       "      <td>4.2</td>\n",
       "      <td>47.391297</td>\n",
       "      <td>8.487764</td>\n",
       "    </tr>\n",
       "    <tr>\n",
       "      <th>8</th>\n",
       "      <td>Jonas-Furrer-Strasse 21, 8046 Zürich, Switzerland</td>\n",
       "      <td>Migros Supermarkt</td>\n",
       "      <td>4.2</td>\n",
       "      <td>47.420064</td>\n",
       "      <td>8.508500</td>\n",
       "    </tr>\n",
       "    <tr>\n",
       "      <th>9</th>\n",
       "      <td>Limmatstrasse 152, 8005 Zürich, Switzerland</td>\n",
       "      <td>Migros Supermarkt</td>\n",
       "      <td>4.4</td>\n",
       "      <td>47.385463</td>\n",
       "      <td>8.531409</td>\n",
       "    </tr>\n",
       "    <tr>\n",
       "      <th>10</th>\n",
       "      <td>Löwenstrasse 31-35 2. und 3. OG, 8001 Zürich, ...</td>\n",
       "      <td>Migros</td>\n",
       "      <td>4.3</td>\n",
       "      <td>47.375383</td>\n",
       "      <td>8.536080</td>\n",
       "    </tr>\n",
       "    <tr>\n",
       "      <th>11</th>\n",
       "      <td>Neumarkt Altstetten, Altstetterstrasse 145, 80...</td>\n",
       "      <td>Migros Supermarkt</td>\n",
       "      <td>4.3</td>\n",
       "      <td>47.388216</td>\n",
       "      <td>8.487381</td>\n",
       "    </tr>\n",
       "    <tr>\n",
       "      <th>12</th>\n",
       "      <td>Pfingstweidstrasse 101, 8005 Zürich, Switzerland</td>\n",
       "      <td>Migros-Supermarkt</td>\n",
       "      <td>4.2</td>\n",
       "      <td>47.390287</td>\n",
       "      <td>8.508995</td>\n",
       "    </tr>\n",
       "    <tr>\n",
       "      <th>13</th>\n",
       "      <td>Schaffhauserstrasse 75, 8057 Zürich, Switzerland</td>\n",
       "      <td>Migros</td>\n",
       "      <td>4.0</td>\n",
       "      <td>47.392546</td>\n",
       "      <td>8.538483</td>\n",
       "    </tr>\n",
       "    <tr>\n",
       "      <th>14</th>\n",
       "      <td>Scheffelstrasse 3, 8037 Zürich, Switzerland</td>\n",
       "      <td>Migros Supermarkt</td>\n",
       "      <td>4.1</td>\n",
       "      <td>47.393683</td>\n",
       "      <td>8.529287</td>\n",
       "    </tr>\n",
       "    <tr>\n",
       "      <th>15</th>\n",
       "      <td>Sihlpassage, 8004 Zürich, Switzerland</td>\n",
       "      <td>Migros Supermarkt</td>\n",
       "      <td>4.3</td>\n",
       "      <td>47.378402</td>\n",
       "      <td>8.535615</td>\n",
       "    </tr>\n",
       "    <tr>\n",
       "      <th>16</th>\n",
       "      <td>Stockerstrasse 47, 8002 Zürich, Switzerland</td>\n",
       "      <td>Migros Supermarkt</td>\n",
       "      <td>4.2</td>\n",
       "      <td>47.368328</td>\n",
       "      <td>8.534194</td>\n",
       "    </tr>\n",
       "    <tr>\n",
       "      <th>17</th>\n",
       "      <td>Tessinerpl. 10, 8002 Zürich, Switzerland</td>\n",
       "      <td>Migros Supermarkt</td>\n",
       "      <td>4.2</td>\n",
       "      <td>47.364130</td>\n",
       "      <td>8.531029</td>\n",
       "    </tr>\n",
       "    <tr>\n",
       "      <th>18</th>\n",
       "      <td>Wengistrasse 7, 8004 Zürich, Switzerland</td>\n",
       "      <td>Migros Supermarkt</td>\n",
       "      <td>4.2</td>\n",
       "      <td>47.374987</td>\n",
       "      <td>8.523070</td>\n",
       "    </tr>\n",
       "    <tr>\n",
       "      <th>19</th>\n",
       "      <td>Winterthurerstrasse 2/4, 8006 Zürich, Switzerland</td>\n",
       "      <td>Migros Supermarkt</td>\n",
       "      <td>4.2</td>\n",
       "      <td>47.386031</td>\n",
       "      <td>8.548559</td>\n",
       "    </tr>\n",
       "    <tr>\n",
       "      <th>20</th>\n",
       "      <td>Einkaufszentrum Neumarkt, Hofwiesenstrasse 350...</td>\n",
       "      <td>Migros Supermarkt</td>\n",
       "      <td>4.3</td>\n",
       "      <td>47.410614</td>\n",
       "      <td>8.542808</td>\n",
       "    </tr>\n",
       "    <tr>\n",
       "      <th>21</th>\n",
       "      <td>Toblerstrasse 73, 8044 Zürich, Switzerland</td>\n",
       "      <td>Migros Supermarkt</td>\n",
       "      <td>3.9</td>\n",
       "      <td>47.379285</td>\n",
       "      <td>8.559433</td>\n",
       "    </tr>\n",
       "    <tr>\n",
       "      <th>22</th>\n",
       "      <td>Seefeldstrasse 111/113, 8008 Zürich, Switzerland</td>\n",
       "      <td>Migros Supermarkt</td>\n",
       "      <td>4.2</td>\n",
       "      <td>47.358374</td>\n",
       "      <td>8.554181</td>\n",
       "    </tr>\n",
       "    <tr>\n",
       "      <th>23</th>\n",
       "      <td>Kreuzpl. 20, 8008 Zürich, Switzerland</td>\n",
       "      <td>Migros Supermarkt</td>\n",
       "      <td>4.3</td>\n",
       "      <td>47.364509</td>\n",
       "      <td>8.553777</td>\n",
       "    </tr>\n",
       "    <tr>\n",
       "      <th>24</th>\n",
       "      <td>Regensdorferstrasse 20, 8049 Zürich, Switzerland</td>\n",
       "      <td>Migros Supermarkt</td>\n",
       "      <td>4.3</td>\n",
       "      <td>47.403755</td>\n",
       "      <td>8.497189</td>\n",
       "    </tr>\n",
       "    <tr>\n",
       "      <th>25</th>\n",
       "      <td>Albisriederstrasse 365, 8047 Zürich, Switzerland</td>\n",
       "      <td>Migros Supermarkt</td>\n",
       "      <td>4.2</td>\n",
       "      <td>47.375261</td>\n",
       "      <td>8.485700</td>\n",
       "    </tr>\n",
       "    <tr>\n",
       "      <th>26</th>\n",
       "      <td>Winterthurerstrasse 524, 8051 Zürich, Switzerland</td>\n",
       "      <td>Migros Supermarkt</td>\n",
       "      <td>4.2</td>\n",
       "      <td>47.403938</td>\n",
       "      <td>8.572667</td>\n",
       "    </tr>\n",
       "    <tr>\n",
       "      <th>27</th>\n",
       "      <td>BRUNAUPARK, Giesshübelstrasse 65, 8045 Zürich,...</td>\n",
       "      <td>Migros Supermarkt</td>\n",
       "      <td>4.3</td>\n",
       "      <td>47.358394</td>\n",
       "      <td>8.517653</td>\n",
       "    </tr>\n",
       "    <tr>\n",
       "      <th>28</th>\n",
       "      <td>Forchstrasse 260, 8008 Zürich, Switzerland</td>\n",
       "      <td>Migros Supermarkt</td>\n",
       "      <td>4.1</td>\n",
       "      <td>47.357577</td>\n",
       "      <td>8.571635</td>\n",
       "    </tr>\n",
       "    <tr>\n",
       "      <th>29</th>\n",
       "      <td>Schaffhauserstrasse 470, 8052 Zürich, Switzerland</td>\n",
       "      <td>Migros Supermarkt</td>\n",
       "      <td>4.3</td>\n",
       "      <td>47.419560</td>\n",
       "      <td>8.548267</td>\n",
       "    </tr>\n",
       "    <tr>\n",
       "      <th>30</th>\n",
       "      <td>Witikonerstrasse 293, 8053 Zürich, Switzerland</td>\n",
       "      <td>Migros Supermarkt</td>\n",
       "      <td>4.3</td>\n",
       "      <td>47.359093</td>\n",
       "      <td>8.585600</td>\n",
       "    </tr>\n",
       "    <tr>\n",
       "      <th>31</th>\n",
       "      <td>Leimbachstrasse 23, 8041 Zürich, Switzerland</td>\n",
       "      <td>Migros Supermarkt</td>\n",
       "      <td>4.1</td>\n",
       "      <td>47.336017</td>\n",
       "      <td>8.518848</td>\n",
       "    </tr>\n",
       "    <tr>\n",
       "      <th>32</th>\n",
       "      <td>Shop Ville, 8001 Zürich, Switzerland</td>\n",
       "      <td>Migros-Supermarkt - Zürich - ShopVilleMärt</td>\n",
       "      <td>3.0</td>\n",
       "      <td>47.377934</td>\n",
       "      <td>8.540177</td>\n",
       "    </tr>\n",
       "    <tr>\n",
       "      <th>33</th>\n",
       "      <td>Flughofstrasse 3, 8058 Kloten, Switzerland</td>\n",
       "      <td>Migros Supermarket Zurich Airport</td>\n",
       "      <td>4.5</td>\n",
       "      <td>47.449370</td>\n",
       "      <td>8.562636</td>\n",
       "    </tr>\n",
       "    <tr>\n",
       "      <th>34</th>\n",
       "      <td>Neue Winterthurerstrasse 99, 8304 Wallisellen,...</td>\n",
       "      <td>Migros</td>\n",
       "      <td>4.4</td>\n",
       "      <td>47.408646</td>\n",
       "      <td>8.595886</td>\n",
       "    </tr>\n",
       "    <tr>\n",
       "      <th>35</th>\n",
       "      <td>Bahnhofstrasse 30, 8304 Wallisellen, Switzerland</td>\n",
       "      <td>Migros Supermarkt</td>\n",
       "      <td>4.0</td>\n",
       "      <td>47.413583</td>\n",
       "      <td>8.591842</td>\n",
       "    </tr>\n",
       "    <tr>\n",
       "      <th>36</th>\n",
       "      <td>Thurgauerstrasse 106, 8152 Opfikon, Switzerland</td>\n",
       "      <td>Migros Supermarkt</td>\n",
       "      <td>4.2</td>\n",
       "      <td>47.421095</td>\n",
       "      <td>8.557782</td>\n",
       "    </tr>\n",
       "    <tr>\n",
       "      <th>37</th>\n",
       "      <td>Altstetterstrasse 133, 8048 Zürich, Switzerland</td>\n",
       "      <td>MIGROS Markthalle</td>\n",
       "      <td>3.8</td>\n",
       "      <td>47.389013</td>\n",
       "      <td>8.486950</td>\n",
       "    </tr>\n",
       "    <tr>\n",
       "      <th>38</th>\n",
       "      <td>Löwenstrasse 35, 8001 Zürich, Switzerland</td>\n",
       "      <td>Billett-Service Migros</td>\n",
       "      <td>4.0</td>\n",
       "      <td>47.375266</td>\n",
       "      <td>8.536160</td>\n",
       "    </tr>\n",
       "    <tr>\n",
       "      <th>39</th>\n",
       "      <td>8037 Zürich, Switzerland</td>\n",
       "      <td>VOI Migros Partner</td>\n",
       "      <td>4.3</td>\n",
       "      <td>47.395314</td>\n",
       "      <td>8.518343</td>\n",
       "    </tr>\n",
       "    <tr>\n",
       "      <th>40</th>\n",
       "      <td>Im Zentrum 1, 8105 Regensdorf, Switzerland</td>\n",
       "      <td>Migros Supermarkt</td>\n",
       "      <td>4.3</td>\n",
       "      <td>47.431011</td>\n",
       "      <td>8.469159</td>\n",
       "    </tr>\n",
       "    <tr>\n",
       "      <th>41</th>\n",
       "      <td>Wallisellerstrasse 8, 8152 Opfikon, Switzerland</td>\n",
       "      <td>Migros Supermarkt</td>\n",
       "      <td>4.1</td>\n",
       "      <td>47.434244</td>\n",
       "      <td>8.567731</td>\n",
       "    </tr>\n",
       "    <tr>\n",
       "      <th>42</th>\n",
       "      <td>Albisstrasse 10, 8134 Adliswil, Switzerland</td>\n",
       "      <td>Migros Supermarkt</td>\n",
       "      <td>4.3</td>\n",
       "      <td>47.311111</td>\n",
       "      <td>8.525278</td>\n",
       "    </tr>\n",
       "    <tr>\n",
       "      <th>43</th>\n",
       "      <td>Zürcherstrasse 4, 8803 Rüschlikon, Switzerland</td>\n",
       "      <td>Migros Supermarkt</td>\n",
       "      <td>4.4</td>\n",
       "      <td>47.300096</td>\n",
       "      <td>8.548924</td>\n",
       "    </tr>\n",
       "    <tr>\n",
       "      <th>44</th>\n",
       "      <td>Rotfluhstrasse 100, 8702 Zollikon, Switzerland</td>\n",
       "      <td>Migros Supermarkt</td>\n",
       "      <td>4.2</td>\n",
       "      <td>47.337842</td>\n",
       "      <td>8.576346</td>\n",
       "    </tr>\n",
       "    <tr>\n",
       "      <th>45</th>\n",
       "      <td>Pappelstrasse 2, 8305 Dietlikon, Switzerland</td>\n",
       "      <td>Migros Supermarkt</td>\n",
       "      <td>4.2</td>\n",
       "      <td>47.419151</td>\n",
       "      <td>8.621642</td>\n",
       "    </tr>\n",
       "    <tr>\n",
       "      <th>46</th>\n",
       "      <td>Zollstrasse 6, 8005 Zürich, Switzerland</td>\n",
       "      <td>Migros Supermarkt (mit Daily Produkten)</td>\n",
       "      <td>4.5</td>\n",
       "      <td>47.379839</td>\n",
       "      <td>8.536872</td>\n",
       "    </tr>\n",
       "  </tbody>\n",
       "</table>\n",
       "</div>"
      ],
      "text/plain": [
       "                                    formatted_address  \\\n",
       "0        Badenerstrasse 376, 8004 Zürich, Switzerland   \n",
       "1   Birmensdorferstrasse 140, 8003 Zürich, Switzer...   \n",
       "2   Birmensdorferstrasse 320, 8055 Zürich, Switzer...   \n",
       "3            Etzelstrasse 3, 8038 Zürich, Switzerland   \n",
       "4     Falkenstrasse 19 - 21, 8008 Zürich, Switzerland   \n",
       "5        Hardturmstrasse 11, 8005 Zürich, Switzerland   \n",
       "6              Hauptbahnhof, 8001 Zürich, Switzerland   \n",
       "7           Hohlstrasse 600, 8048 Zürich, Switzerland   \n",
       "8   Jonas-Furrer-Strasse 21, 8046 Zürich, Switzerland   \n",
       "9         Limmatstrasse 152, 8005 Zürich, Switzerland   \n",
       "10  Löwenstrasse 31-35 2. und 3. OG, 8001 Zürich, ...   \n",
       "11  Neumarkt Altstetten, Altstetterstrasse 145, 80...   \n",
       "12   Pfingstweidstrasse 101, 8005 Zürich, Switzerland   \n",
       "13   Schaffhauserstrasse 75, 8057 Zürich, Switzerland   \n",
       "14        Scheffelstrasse 3, 8037 Zürich, Switzerland   \n",
       "15              Sihlpassage, 8004 Zürich, Switzerland   \n",
       "16        Stockerstrasse 47, 8002 Zürich, Switzerland   \n",
       "17           Tessinerpl. 10, 8002 Zürich, Switzerland   \n",
       "18           Wengistrasse 7, 8004 Zürich, Switzerland   \n",
       "19  Winterthurerstrasse 2/4, 8006 Zürich, Switzerland   \n",
       "20  Einkaufszentrum Neumarkt, Hofwiesenstrasse 350...   \n",
       "21         Toblerstrasse 73, 8044 Zürich, Switzerland   \n",
       "22   Seefeldstrasse 111/113, 8008 Zürich, Switzerland   \n",
       "23              Kreuzpl. 20, 8008 Zürich, Switzerland   \n",
       "24   Regensdorferstrasse 20, 8049 Zürich, Switzerland   \n",
       "25   Albisriederstrasse 365, 8047 Zürich, Switzerland   \n",
       "26  Winterthurerstrasse 524, 8051 Zürich, Switzerland   \n",
       "27  BRUNAUPARK, Giesshübelstrasse 65, 8045 Zürich,...   \n",
       "28         Forchstrasse 260, 8008 Zürich, Switzerland   \n",
       "29  Schaffhauserstrasse 470, 8052 Zürich, Switzerland   \n",
       "30     Witikonerstrasse 293, 8053 Zürich, Switzerland   \n",
       "31       Leimbachstrasse 23, 8041 Zürich, Switzerland   \n",
       "32               Shop Ville, 8001 Zürich, Switzerland   \n",
       "33         Flughofstrasse 3, 8058 Kloten, Switzerland   \n",
       "34  Neue Winterthurerstrasse 99, 8304 Wallisellen,...   \n",
       "35   Bahnhofstrasse 30, 8304 Wallisellen, Switzerland   \n",
       "36    Thurgauerstrasse 106, 8152 Opfikon, Switzerland   \n",
       "37    Altstetterstrasse 133, 8048 Zürich, Switzerland   \n",
       "38          Löwenstrasse 35, 8001 Zürich, Switzerland   \n",
       "39                           8037 Zürich, Switzerland   \n",
       "40         Im Zentrum 1, 8105 Regensdorf, Switzerland   \n",
       "41    Wallisellerstrasse 8, 8152 Opfikon, Switzerland   \n",
       "42        Albisstrasse 10, 8134 Adliswil, Switzerland   \n",
       "43     Zürcherstrasse 4, 8803 Rüschlikon, Switzerland   \n",
       "44     Rotfluhstrasse 100, 8702 Zollikon, Switzerland   \n",
       "45       Pappelstrasse 2, 8305 Dietlikon, Switzerland   \n",
       "46            Zollstrasse 6, 8005 Zürich, Switzerland   \n",
       "\n",
       "                                          name  rating  geometry.location.lat  \\\n",
       "0                            Migros Supermarkt     4.1              47.379105   \n",
       "1                            Migros Supermarkt     4.2              47.370066   \n",
       "2                            Migros Supermarkt     4.3              47.369956   \n",
       "3                            Migros Supermarkt     4.3              47.344706   \n",
       "4                                       Migros     4.2              47.365446   \n",
       "5                            Migros Supermarkt     4.3              47.391336   \n",
       "6                               Migros Superm.     4.2              47.377507   \n",
       "7                            Migros Supermarkt     4.2              47.391297   \n",
       "8                            Migros Supermarkt     4.2              47.420064   \n",
       "9                            Migros Supermarkt     4.4              47.385463   \n",
       "10                                      Migros     4.3              47.375383   \n",
       "11                           Migros Supermarkt     4.3              47.388216   \n",
       "12                           Migros-Supermarkt     4.2              47.390287   \n",
       "13                                      Migros     4.0              47.392546   \n",
       "14                           Migros Supermarkt     4.1              47.393683   \n",
       "15                           Migros Supermarkt     4.3              47.378402   \n",
       "16                           Migros Supermarkt     4.2              47.368328   \n",
       "17                           Migros Supermarkt     4.2              47.364130   \n",
       "18                           Migros Supermarkt     4.2              47.374987   \n",
       "19                           Migros Supermarkt     4.2              47.386031   \n",
       "20                           Migros Supermarkt     4.3              47.410614   \n",
       "21                           Migros Supermarkt     3.9              47.379285   \n",
       "22                           Migros Supermarkt     4.2              47.358374   \n",
       "23                           Migros Supermarkt     4.3              47.364509   \n",
       "24                           Migros Supermarkt     4.3              47.403755   \n",
       "25                           Migros Supermarkt     4.2              47.375261   \n",
       "26                           Migros Supermarkt     4.2              47.403938   \n",
       "27                           Migros Supermarkt     4.3              47.358394   \n",
       "28                           Migros Supermarkt     4.1              47.357577   \n",
       "29                           Migros Supermarkt     4.3              47.419560   \n",
       "30                           Migros Supermarkt     4.3              47.359093   \n",
       "31                           Migros Supermarkt     4.1              47.336017   \n",
       "32  Migros-Supermarkt - Zürich - ShopVilleMärt     3.0              47.377934   \n",
       "33           Migros Supermarket Zurich Airport     4.5              47.449370   \n",
       "34                                      Migros     4.4              47.408646   \n",
       "35                           Migros Supermarkt     4.0              47.413583   \n",
       "36                           Migros Supermarkt     4.2              47.421095   \n",
       "37                           MIGROS Markthalle     3.8              47.389013   \n",
       "38                      Billett-Service Migros     4.0              47.375266   \n",
       "39                          VOI Migros Partner     4.3              47.395314   \n",
       "40                           Migros Supermarkt     4.3              47.431011   \n",
       "41                           Migros Supermarkt     4.1              47.434244   \n",
       "42                           Migros Supermarkt     4.3              47.311111   \n",
       "43                           Migros Supermarkt     4.4              47.300096   \n",
       "44                           Migros Supermarkt     4.2              47.337842   \n",
       "45                           Migros Supermarkt     4.2              47.419151   \n",
       "46     Migros Supermarkt (mit Daily Produkten)     4.5              47.379839   \n",
       "\n",
       "    geometry.location.lng  \n",
       "0                8.508754  \n",
       "1                8.520107  \n",
       "2                8.508721  \n",
       "3                8.529962  \n",
       "4                8.547967  \n",
       "5                8.518553  \n",
       "6                8.539468  \n",
       "7                8.487764  \n",
       "8                8.508500  \n",
       "9                8.531409  \n",
       "10               8.536080  \n",
       "11               8.487381  \n",
       "12               8.508995  \n",
       "13               8.538483  \n",
       "14               8.529287  \n",
       "15               8.535615  \n",
       "16               8.534194  \n",
       "17               8.531029  \n",
       "18               8.523070  \n",
       "19               8.548559  \n",
       "20               8.542808  \n",
       "21               8.559433  \n",
       "22               8.554181  \n",
       "23               8.553777  \n",
       "24               8.497189  \n",
       "25               8.485700  \n",
       "26               8.572667  \n",
       "27               8.517653  \n",
       "28               8.571635  \n",
       "29               8.548267  \n",
       "30               8.585600  \n",
       "31               8.518848  \n",
       "32               8.540177  \n",
       "33               8.562636  \n",
       "34               8.595886  \n",
       "35               8.591842  \n",
       "36               8.557782  \n",
       "37               8.486950  \n",
       "38               8.536160  \n",
       "39               8.518343  \n",
       "40               8.469159  \n",
       "41               8.567731  \n",
       "42               8.525278  \n",
       "43               8.548924  \n",
       "44               8.576346  \n",
       "45               8.621642  \n",
       "46               8.536872  "
      ]
     },
     "execution_count": 18,
     "metadata": {},
     "output_type": "execute_result"
    }
   ],
   "source": [
    "df = df[['formatted_address', 'name', 'rating', 'geometry.location.lat', 'geometry.location.lng']]\n",
    "df"
   ]
  },
  {
   "cell_type": "code",
   "execution_count": 19,
   "metadata": {},
   "outputs": [
    {
     "data": {
      "application/vnd.plotly.v1+json": {
       "config": {
        "plotlyServerURL": "https://plot.ly"
       },
       "data": [
        {
         "geo": "geo",
         "hovertemplate": "<b>%{hovertext}</b><br><br>geometry.location.lat=%{lat}<br>geometry.location.lng=%{lon}<extra></extra>",
         "hovertext": [
          "Migros Supermarkt",
          "Migros Supermarkt",
          "Migros Supermarkt",
          "Migros Supermarkt",
          "Migros",
          "Migros Supermarkt",
          "Migros Superm.",
          "Migros Supermarkt",
          "Migros Supermarkt",
          "Migros Supermarkt",
          "Migros",
          "Migros Supermarkt",
          "Migros-Supermarkt",
          "Migros",
          "Migros Supermarkt",
          "Migros Supermarkt",
          "Migros Supermarkt",
          "Migros Supermarkt",
          "Migros Supermarkt",
          "Migros Supermarkt",
          "Migros Supermarkt",
          "Migros Supermarkt",
          "Migros Supermarkt",
          "Migros Supermarkt",
          "Migros Supermarkt",
          "Migros Supermarkt",
          "Migros Supermarkt",
          "Migros Supermarkt",
          "Migros Supermarkt",
          "Migros Supermarkt",
          "Migros Supermarkt",
          "Migros Supermarkt",
          "Migros-Supermarkt - Zürich - ShopVilleMärt",
          "Migros Supermarket Zurich Airport",
          "Migros",
          "Migros Supermarkt",
          "Migros Supermarkt",
          "MIGROS Markthalle",
          "Billett-Service Migros",
          "VOI Migros Partner",
          "Migros Supermarkt",
          "Migros Supermarkt",
          "Migros Supermarkt",
          "Migros Supermarkt",
          "Migros Supermarkt",
          "Migros Supermarkt",
          "Migros Supermarkt (mit Daily Produkten)"
         ],
         "lat": [
          47.3791051,
          47.3700658,
          47.3699559,
          47.3447064,
          47.3654461,
          47.391336,
          47.3775067,
          47.39129680000001,
          47.4200641,
          47.38546299999999,
          47.37538319999999,
          47.3882164,
          47.3902872,
          47.3925463,
          47.39368349999999,
          47.3784015,
          47.3683281,
          47.36413049999999,
          47.374987,
          47.3860308,
          47.4106139,
          47.3792851,
          47.3583739,
          47.3645091,
          47.40375450000001,
          47.3752612,
          47.4039382,
          47.3583939,
          47.35757659999999,
          47.4195602,
          47.35909299999999,
          47.33601729999999,
          47.3779341,
          47.4493704,
          47.4086459,
          47.413583,
          47.4210946,
          47.3890135,
          47.3752656,
          47.3953139,
          47.4310112,
          47.4342441,
          47.3111111,
          47.300096,
          47.33784199999999,
          47.419151,
          47.37983939999999
         ],
         "legendgroup": "",
         "lon": [
          8.5087542,
          8.5201069,
          8.508720799999999,
          8.5299616,
          8.5479668,
          8.518552999999999,
          8.5394685,
          8.487764499999999,
          8.5084999,
          8.531409199999999,
          8.5360797,
          8.4873808,
          8.5089945,
          8.5384833,
          8.529286700000002,
          8.535615,
          8.5341943,
          8.5310291,
          8.523069900000001,
          8.5485592,
          8.5428078,
          8.5594331,
          8.5541813,
          8.5537771,
          8.4971895,
          8.485700399999999,
          8.5726668,
          8.5176529,
          8.5716345,
          8.5482668,
          8.5856,
          8.5188484,
          8.5401768,
          8.562636099999999,
          8.595885599999999,
          8.591842,
          8.5577823,
          8.486950499999999,
          8.536159999999999,
          8.5183428,
          8.4691587,
          8.567730599999999,
          8.5252778,
          8.548924,
          8.5763462,
          8.621642,
          8.536871699999999
         ],
         "marker": {
          "color": "#636efa",
          "symbol": "circle"
         },
         "mode": "markers",
         "name": "",
         "showlegend": false,
         "type": "scattergeo"
        }
       ],
       "layout": {
        "geo": {
         "center": {},
         "domain": {
          "x": [
           0,
           1
          ],
          "y": [
           0,
           1
          ]
         }
        },
        "legend": {
         "tracegroupgap": 0
        },
        "margin": {
         "t": 60
        },
        "template": {
         "data": {
          "bar": [
           {
            "error_x": {
             "color": "#2a3f5f"
            },
            "error_y": {
             "color": "#2a3f5f"
            },
            "marker": {
             "line": {
              "color": "#E5ECF6",
              "width": 0.5
             },
             "pattern": {
              "fillmode": "overlay",
              "size": 10,
              "solidity": 0.2
             }
            },
            "type": "bar"
           }
          ],
          "barpolar": [
           {
            "marker": {
             "line": {
              "color": "#E5ECF6",
              "width": 0.5
             },
             "pattern": {
              "fillmode": "overlay",
              "size": 10,
              "solidity": 0.2
             }
            },
            "type": "barpolar"
           }
          ],
          "carpet": [
           {
            "aaxis": {
             "endlinecolor": "#2a3f5f",
             "gridcolor": "white",
             "linecolor": "white",
             "minorgridcolor": "white",
             "startlinecolor": "#2a3f5f"
            },
            "baxis": {
             "endlinecolor": "#2a3f5f",
             "gridcolor": "white",
             "linecolor": "white",
             "minorgridcolor": "white",
             "startlinecolor": "#2a3f5f"
            },
            "type": "carpet"
           }
          ],
          "choropleth": [
           {
            "colorbar": {
             "outlinewidth": 0,
             "ticks": ""
            },
            "type": "choropleth"
           }
          ],
          "contour": [
           {
            "colorbar": {
             "outlinewidth": 0,
             "ticks": ""
            },
            "colorscale": [
             [
              0,
              "#0d0887"
             ],
             [
              0.1111111111111111,
              "#46039f"
             ],
             [
              0.2222222222222222,
              "#7201a8"
             ],
             [
              0.3333333333333333,
              "#9c179e"
             ],
             [
              0.4444444444444444,
              "#bd3786"
             ],
             [
              0.5555555555555556,
              "#d8576b"
             ],
             [
              0.6666666666666666,
              "#ed7953"
             ],
             [
              0.7777777777777778,
              "#fb9f3a"
             ],
             [
              0.8888888888888888,
              "#fdca26"
             ],
             [
              1,
              "#f0f921"
             ]
            ],
            "type": "contour"
           }
          ],
          "contourcarpet": [
           {
            "colorbar": {
             "outlinewidth": 0,
             "ticks": ""
            },
            "type": "contourcarpet"
           }
          ],
          "heatmap": [
           {
            "colorbar": {
             "outlinewidth": 0,
             "ticks": ""
            },
            "colorscale": [
             [
              0,
              "#0d0887"
             ],
             [
              0.1111111111111111,
              "#46039f"
             ],
             [
              0.2222222222222222,
              "#7201a8"
             ],
             [
              0.3333333333333333,
              "#9c179e"
             ],
             [
              0.4444444444444444,
              "#bd3786"
             ],
             [
              0.5555555555555556,
              "#d8576b"
             ],
             [
              0.6666666666666666,
              "#ed7953"
             ],
             [
              0.7777777777777778,
              "#fb9f3a"
             ],
             [
              0.8888888888888888,
              "#fdca26"
             ],
             [
              1,
              "#f0f921"
             ]
            ],
            "type": "heatmap"
           }
          ],
          "heatmapgl": [
           {
            "colorbar": {
             "outlinewidth": 0,
             "ticks": ""
            },
            "colorscale": [
             [
              0,
              "#0d0887"
             ],
             [
              0.1111111111111111,
              "#46039f"
             ],
             [
              0.2222222222222222,
              "#7201a8"
             ],
             [
              0.3333333333333333,
              "#9c179e"
             ],
             [
              0.4444444444444444,
              "#bd3786"
             ],
             [
              0.5555555555555556,
              "#d8576b"
             ],
             [
              0.6666666666666666,
              "#ed7953"
             ],
             [
              0.7777777777777778,
              "#fb9f3a"
             ],
             [
              0.8888888888888888,
              "#fdca26"
             ],
             [
              1,
              "#f0f921"
             ]
            ],
            "type": "heatmapgl"
           }
          ],
          "histogram": [
           {
            "marker": {
             "pattern": {
              "fillmode": "overlay",
              "size": 10,
              "solidity": 0.2
             }
            },
            "type": "histogram"
           }
          ],
          "histogram2d": [
           {
            "colorbar": {
             "outlinewidth": 0,
             "ticks": ""
            },
            "colorscale": [
             [
              0,
              "#0d0887"
             ],
             [
              0.1111111111111111,
              "#46039f"
             ],
             [
              0.2222222222222222,
              "#7201a8"
             ],
             [
              0.3333333333333333,
              "#9c179e"
             ],
             [
              0.4444444444444444,
              "#bd3786"
             ],
             [
              0.5555555555555556,
              "#d8576b"
             ],
             [
              0.6666666666666666,
              "#ed7953"
             ],
             [
              0.7777777777777778,
              "#fb9f3a"
             ],
             [
              0.8888888888888888,
              "#fdca26"
             ],
             [
              1,
              "#f0f921"
             ]
            ],
            "type": "histogram2d"
           }
          ],
          "histogram2dcontour": [
           {
            "colorbar": {
             "outlinewidth": 0,
             "ticks": ""
            },
            "colorscale": [
             [
              0,
              "#0d0887"
             ],
             [
              0.1111111111111111,
              "#46039f"
             ],
             [
              0.2222222222222222,
              "#7201a8"
             ],
             [
              0.3333333333333333,
              "#9c179e"
             ],
             [
              0.4444444444444444,
              "#bd3786"
             ],
             [
              0.5555555555555556,
              "#d8576b"
             ],
             [
              0.6666666666666666,
              "#ed7953"
             ],
             [
              0.7777777777777778,
              "#fb9f3a"
             ],
             [
              0.8888888888888888,
              "#fdca26"
             ],
             [
              1,
              "#f0f921"
             ]
            ],
            "type": "histogram2dcontour"
           }
          ],
          "mesh3d": [
           {
            "colorbar": {
             "outlinewidth": 0,
             "ticks": ""
            },
            "type": "mesh3d"
           }
          ],
          "parcoords": [
           {
            "line": {
             "colorbar": {
              "outlinewidth": 0,
              "ticks": ""
             }
            },
            "type": "parcoords"
           }
          ],
          "pie": [
           {
            "automargin": true,
            "type": "pie"
           }
          ],
          "scatter": [
           {
            "fillpattern": {
             "fillmode": "overlay",
             "size": 10,
             "solidity": 0.2
            },
            "type": "scatter"
           }
          ],
          "scatter3d": [
           {
            "line": {
             "colorbar": {
              "outlinewidth": 0,
              "ticks": ""
             }
            },
            "marker": {
             "colorbar": {
              "outlinewidth": 0,
              "ticks": ""
             }
            },
            "type": "scatter3d"
           }
          ],
          "scattercarpet": [
           {
            "marker": {
             "colorbar": {
              "outlinewidth": 0,
              "ticks": ""
             }
            },
            "type": "scattercarpet"
           }
          ],
          "scattergeo": [
           {
            "marker": {
             "colorbar": {
              "outlinewidth": 0,
              "ticks": ""
             }
            },
            "type": "scattergeo"
           }
          ],
          "scattergl": [
           {
            "marker": {
             "colorbar": {
              "outlinewidth": 0,
              "ticks": ""
             }
            },
            "type": "scattergl"
           }
          ],
          "scattermapbox": [
           {
            "marker": {
             "colorbar": {
              "outlinewidth": 0,
              "ticks": ""
             }
            },
            "type": "scattermapbox"
           }
          ],
          "scatterpolar": [
           {
            "marker": {
             "colorbar": {
              "outlinewidth": 0,
              "ticks": ""
             }
            },
            "type": "scatterpolar"
           }
          ],
          "scatterpolargl": [
           {
            "marker": {
             "colorbar": {
              "outlinewidth": 0,
              "ticks": ""
             }
            },
            "type": "scatterpolargl"
           }
          ],
          "scatterternary": [
           {
            "marker": {
             "colorbar": {
              "outlinewidth": 0,
              "ticks": ""
             }
            },
            "type": "scatterternary"
           }
          ],
          "surface": [
           {
            "colorbar": {
             "outlinewidth": 0,
             "ticks": ""
            },
            "colorscale": [
             [
              0,
              "#0d0887"
             ],
             [
              0.1111111111111111,
              "#46039f"
             ],
             [
              0.2222222222222222,
              "#7201a8"
             ],
             [
              0.3333333333333333,
              "#9c179e"
             ],
             [
              0.4444444444444444,
              "#bd3786"
             ],
             [
              0.5555555555555556,
              "#d8576b"
             ],
             [
              0.6666666666666666,
              "#ed7953"
             ],
             [
              0.7777777777777778,
              "#fb9f3a"
             ],
             [
              0.8888888888888888,
              "#fdca26"
             ],
             [
              1,
              "#f0f921"
             ]
            ],
            "type": "surface"
           }
          ],
          "table": [
           {
            "cells": {
             "fill": {
              "color": "#EBF0F8"
             },
             "line": {
              "color": "white"
             }
            },
            "header": {
             "fill": {
              "color": "#C8D4E3"
             },
             "line": {
              "color": "white"
             }
            },
            "type": "table"
           }
          ]
         },
         "layout": {
          "annotationdefaults": {
           "arrowcolor": "#2a3f5f",
           "arrowhead": 0,
           "arrowwidth": 1
          },
          "autotypenumbers": "strict",
          "coloraxis": {
           "colorbar": {
            "outlinewidth": 0,
            "ticks": ""
           }
          },
          "colorscale": {
           "diverging": [
            [
             0,
             "#8e0152"
            ],
            [
             0.1,
             "#c51b7d"
            ],
            [
             0.2,
             "#de77ae"
            ],
            [
             0.3,
             "#f1b6da"
            ],
            [
             0.4,
             "#fde0ef"
            ],
            [
             0.5,
             "#f7f7f7"
            ],
            [
             0.6,
             "#e6f5d0"
            ],
            [
             0.7,
             "#b8e186"
            ],
            [
             0.8,
             "#7fbc41"
            ],
            [
             0.9,
             "#4d9221"
            ],
            [
             1,
             "#276419"
            ]
           ],
           "sequential": [
            [
             0,
             "#0d0887"
            ],
            [
             0.1111111111111111,
             "#46039f"
            ],
            [
             0.2222222222222222,
             "#7201a8"
            ],
            [
             0.3333333333333333,
             "#9c179e"
            ],
            [
             0.4444444444444444,
             "#bd3786"
            ],
            [
             0.5555555555555556,
             "#d8576b"
            ],
            [
             0.6666666666666666,
             "#ed7953"
            ],
            [
             0.7777777777777778,
             "#fb9f3a"
            ],
            [
             0.8888888888888888,
             "#fdca26"
            ],
            [
             1,
             "#f0f921"
            ]
           ],
           "sequentialminus": [
            [
             0,
             "#0d0887"
            ],
            [
             0.1111111111111111,
             "#46039f"
            ],
            [
             0.2222222222222222,
             "#7201a8"
            ],
            [
             0.3333333333333333,
             "#9c179e"
            ],
            [
             0.4444444444444444,
             "#bd3786"
            ],
            [
             0.5555555555555556,
             "#d8576b"
            ],
            [
             0.6666666666666666,
             "#ed7953"
            ],
            [
             0.7777777777777778,
             "#fb9f3a"
            ],
            [
             0.8888888888888888,
             "#fdca26"
            ],
            [
             1,
             "#f0f921"
            ]
           ]
          },
          "colorway": [
           "#636efa",
           "#EF553B",
           "#00cc96",
           "#ab63fa",
           "#FFA15A",
           "#19d3f3",
           "#FF6692",
           "#B6E880",
           "#FF97FF",
           "#FECB52"
          ],
          "font": {
           "color": "#2a3f5f"
          },
          "geo": {
           "bgcolor": "white",
           "lakecolor": "white",
           "landcolor": "#E5ECF6",
           "showlakes": true,
           "showland": true,
           "subunitcolor": "white"
          },
          "hoverlabel": {
           "align": "left"
          },
          "hovermode": "closest",
          "mapbox": {
           "style": "light"
          },
          "paper_bgcolor": "white",
          "plot_bgcolor": "#E5ECF6",
          "polar": {
           "angularaxis": {
            "gridcolor": "white",
            "linecolor": "white",
            "ticks": ""
           },
           "bgcolor": "#E5ECF6",
           "radialaxis": {
            "gridcolor": "white",
            "linecolor": "white",
            "ticks": ""
           }
          },
          "scene": {
           "xaxis": {
            "backgroundcolor": "#E5ECF6",
            "gridcolor": "white",
            "gridwidth": 2,
            "linecolor": "white",
            "showbackground": true,
            "ticks": "",
            "zerolinecolor": "white"
           },
           "yaxis": {
            "backgroundcolor": "#E5ECF6",
            "gridcolor": "white",
            "gridwidth": 2,
            "linecolor": "white",
            "showbackground": true,
            "ticks": "",
            "zerolinecolor": "white"
           },
           "zaxis": {
            "backgroundcolor": "#E5ECF6",
            "gridcolor": "white",
            "gridwidth": 2,
            "linecolor": "white",
            "showbackground": true,
            "ticks": "",
            "zerolinecolor": "white"
           }
          },
          "shapedefaults": {
           "line": {
            "color": "#2a3f5f"
           }
          },
          "ternary": {
           "aaxis": {
            "gridcolor": "white",
            "linecolor": "white",
            "ticks": ""
           },
           "baxis": {
            "gridcolor": "white",
            "linecolor": "white",
            "ticks": ""
           },
           "bgcolor": "#E5ECF6",
           "caxis": {
            "gridcolor": "white",
            "linecolor": "white",
            "ticks": ""
           }
          },
          "title": {
           "x": 0.05
          },
          "xaxis": {
           "automargin": true,
           "gridcolor": "white",
           "linecolor": "white",
           "ticks": "",
           "title": {
            "standoff": 15
           },
           "zerolinecolor": "white",
           "zerolinewidth": 2
          },
          "yaxis": {
           "automargin": true,
           "gridcolor": "white",
           "linecolor": "white",
           "ticks": "",
           "title": {
            "standoff": 15
           },
           "zerolinecolor": "white",
           "zerolinewidth": 2
          }
         }
        }
       }
      }
     },
     "metadata": {},
     "output_type": "display_data"
    }
   ],
   "source": [
    "import plotly.express as px\n",
    "\n",
    "fig = px.scatter_geo(df,\n",
    "                    lat=df['geometry.location.lat'],\n",
    "                    lon=df['geometry.location.lng'],\n",
    "                    hover_name=\"name\")\n",
    "fig.show()"
   ]
  },
  {
   "cell_type": "code",
   "execution_count": 20,
   "metadata": {},
   "outputs": [],
   "source": [
    "import json\n",
    "import plotly.graph_objects as go\n",
    "\n",
    "\n",
    "with open('stadtkreise.json') as json_file:\n",
    "    stadtkreise = json.load(json_file)\n",
    "\n",
    "def set_ID(kreis):\n",
    "    for i in range(len(kreis['features'])):\n",
    "        kreis['features'][i]['id'] = kreis['features'][i]['properties']['name']\n",
    "    return kreis\n",
    "\n",
    "stadtkreise = set_ID(stadtkreise)"
   ]
  },
  {
   "cell_type": "code",
   "execution_count": 21,
   "metadata": {},
   "outputs": [
    {
     "ename": "AttributeError",
     "evalue": "'DataFrame' object has no attribute 'id_Kreis'",
     "output_type": "error",
     "traceback": [
      "\u001b[1;31m---------------------------------------------------------------------------\u001b[0m",
      "\u001b[1;31mAttributeError\u001b[0m                            Traceback (most recent call last)",
      "\u001b[1;32mc:\\Users\\jstimolo\\Documents\\SIT_Academy\\Group_Project_SIT\\Jacques\\data_stores\\dataframes.ipynb Cell 8'\u001b[0m in \u001b[0;36m<cell line: 1>\u001b[1;34m()\u001b[0m\n\u001b[1;32m----> <a href='vscode-notebook-cell:/c%3A/Users/jstimolo/Documents/SIT_Academy/Group_Project_SIT/Jacques/data_stores/dataframes.ipynb#ch0000008?line=0'>1</a>\u001b[0m fig \u001b[39m=\u001b[39m go\u001b[39m.\u001b[39mFigure(go\u001b[39m.\u001b[39mChoroplethmapbox(geojson\u001b[39m=\u001b[39mstadtkreise, locations\u001b[39m=\u001b[39mdf\u001b[39m.\u001b[39;49mid_Kreis, z\u001b[39m=\u001b[39mdf1\u001b[39m.\u001b[39mCount,\n\u001b[0;32m      <a href='vscode-notebook-cell:/c%3A/Users/jstimolo/Documents/SIT_Academy/Group_Project_SIT/Jacques/data_stores/dataframes.ipynb#ch0000008?line=1'>2</a>\u001b[0m                                     colorscale\u001b[39m=\u001b[39m\u001b[39m\"\u001b[39m\u001b[39mViridis\u001b[39m\u001b[39m\"\u001b[39m,\n\u001b[0;32m      <a href='vscode-notebook-cell:/c%3A/Users/jstimolo/Documents/SIT_Academy/Group_Project_SIT/Jacques/data_stores/dataframes.ipynb#ch0000008?line=2'>3</a>\u001b[0m                                     marker_opacity\u001b[39m=\u001b[39m\u001b[39m0.5\u001b[39m, marker_line_width\u001b[39m=\u001b[39m\u001b[39m0\u001b[39m))\n\u001b[0;32m      <a href='vscode-notebook-cell:/c%3A/Users/jstimolo/Documents/SIT_Academy/Group_Project_SIT/Jacques/data_stores/dataframes.ipynb#ch0000008?line=5'>6</a>\u001b[0m fig\u001b[39m.\u001b[39mupdate_layout(mapbox_style\u001b[39m=\u001b[39m\u001b[39m\"\u001b[39m\u001b[39mcarto-positron\u001b[39m\u001b[39m\"\u001b[39m,\n\u001b[0;32m      <a href='vscode-notebook-cell:/c%3A/Users/jstimolo/Documents/SIT_Academy/Group_Project_SIT/Jacques/data_stores/dataframes.ipynb#ch0000008?line=6'>7</a>\u001b[0m                   mapbox_zoom\u001b[39m=\u001b[39m\u001b[39m10\u001b[39m, mapbox_center \u001b[39m=\u001b[39m {\u001b[39m\"\u001b[39m\u001b[39mlat\u001b[39m\u001b[39m\"\u001b[39m: \u001b[39m47.4\u001b[39m, \u001b[39m\"\u001b[39m\u001b[39mlon\u001b[39m\u001b[39m\"\u001b[39m: \u001b[39m8.6\u001b[39m})\n\u001b[0;32m      <a href='vscode-notebook-cell:/c%3A/Users/jstimolo/Documents/SIT_Academy/Group_Project_SIT/Jacques/data_stores/dataframes.ipynb#ch0000008?line=7'>8</a>\u001b[0m fig\u001b[39m.\u001b[39mupdate_layout(margin\u001b[39m=\u001b[39m{\u001b[39m\"\u001b[39m\u001b[39mr\u001b[39m\u001b[39m\"\u001b[39m:\u001b[39m0\u001b[39m,\u001b[39m\"\u001b[39m\u001b[39mt\u001b[39m\u001b[39m\"\u001b[39m:\u001b[39m0\u001b[39m,\u001b[39m\"\u001b[39m\u001b[39ml\u001b[39m\u001b[39m\"\u001b[39m:\u001b[39m0\u001b[39m,\u001b[39m\"\u001b[39m\u001b[39mb\u001b[39m\u001b[39m\"\u001b[39m:\u001b[39m0\u001b[39m})\n",
      "File \u001b[1;32mc:\\Users\\jstimolo\\anaconda3\\envs\\challenge_1\\lib\\site-packages\\pandas\\core\\generic.py:5575\u001b[0m, in \u001b[0;36mNDFrame.__getattr__\u001b[1;34m(self, name)\u001b[0m\n\u001b[0;32m   <a href='file:///c%3A/Users/jstimolo/anaconda3/envs/challenge_1/lib/site-packages/pandas/core/generic.py?line=5567'>5568</a>\u001b[0m \u001b[39mif\u001b[39;00m (\n\u001b[0;32m   <a href='file:///c%3A/Users/jstimolo/anaconda3/envs/challenge_1/lib/site-packages/pandas/core/generic.py?line=5568'>5569</a>\u001b[0m     name \u001b[39mnot\u001b[39;00m \u001b[39min\u001b[39;00m \u001b[39mself\u001b[39m\u001b[39m.\u001b[39m_internal_names_set\n\u001b[0;32m   <a href='file:///c%3A/Users/jstimolo/anaconda3/envs/challenge_1/lib/site-packages/pandas/core/generic.py?line=5569'>5570</a>\u001b[0m     \u001b[39mand\u001b[39;00m name \u001b[39mnot\u001b[39;00m \u001b[39min\u001b[39;00m \u001b[39mself\u001b[39m\u001b[39m.\u001b[39m_metadata\n\u001b[0;32m   <a href='file:///c%3A/Users/jstimolo/anaconda3/envs/challenge_1/lib/site-packages/pandas/core/generic.py?line=5570'>5571</a>\u001b[0m     \u001b[39mand\u001b[39;00m name \u001b[39mnot\u001b[39;00m \u001b[39min\u001b[39;00m \u001b[39mself\u001b[39m\u001b[39m.\u001b[39m_accessors\n\u001b[0;32m   <a href='file:///c%3A/Users/jstimolo/anaconda3/envs/challenge_1/lib/site-packages/pandas/core/generic.py?line=5571'>5572</a>\u001b[0m     \u001b[39mand\u001b[39;00m \u001b[39mself\u001b[39m\u001b[39m.\u001b[39m_info_axis\u001b[39m.\u001b[39m_can_hold_identifiers_and_holds_name(name)\n\u001b[0;32m   <a href='file:///c%3A/Users/jstimolo/anaconda3/envs/challenge_1/lib/site-packages/pandas/core/generic.py?line=5572'>5573</a>\u001b[0m ):\n\u001b[0;32m   <a href='file:///c%3A/Users/jstimolo/anaconda3/envs/challenge_1/lib/site-packages/pandas/core/generic.py?line=5573'>5574</a>\u001b[0m     \u001b[39mreturn\u001b[39;00m \u001b[39mself\u001b[39m[name]\n\u001b[1;32m-> <a href='file:///c%3A/Users/jstimolo/anaconda3/envs/challenge_1/lib/site-packages/pandas/core/generic.py?line=5574'>5575</a>\u001b[0m \u001b[39mreturn\u001b[39;00m \u001b[39mobject\u001b[39;49m\u001b[39m.\u001b[39;49m\u001b[39m__getattribute__\u001b[39;49m(\u001b[39mself\u001b[39;49m, name)\n",
      "\u001b[1;31mAttributeError\u001b[0m: 'DataFrame' object has no attribute 'id_Kreis'"
     ]
    }
   ],
   "source": [
    "fig = go.Figure(go.Choroplethmapbox(geojson=stadtkreise, locations=df.id_Kreis, z=df1.Count,\n",
    "                                    colorscale=\"Viridis\",\n",
    "                                    marker_opacity=0.5, marker_line_width=0))\n",
    "\n",
    "\n",
    "fig.update_layout(mapbox_style=\"carto-positron\",\n",
    "                  mapbox_zoom=10, mapbox_center = {\"lat\": 47.4, \"lon\": 8.6})\n",
    "fig.update_layout(margin={\"r\":0,\"t\":0,\"l\":0,\"b\":0})\n",
    "fig.show()"
   ]
  }
 ],
 "metadata": {
  "interpreter": {
   "hash": "e4af89721f46a15f20169aed7ef30222589be9f69429160aed8782f931355615"
  },
  "kernelspec": {
   "display_name": "Python 3.10.4 ('challenge_1')",
   "language": "python",
   "name": "python3"
  },
  "language_info": {
   "codemirror_mode": {
    "name": "ipython",
    "version": 3
   },
   "file_extension": ".py",
   "mimetype": "text/x-python",
   "name": "python",
   "nbconvert_exporter": "python",
   "pygments_lexer": "ipython3",
   "version": "3.10.4"
  },
  "orig_nbformat": 4
 },
 "nbformat": 4,
 "nbformat_minor": 2
}
